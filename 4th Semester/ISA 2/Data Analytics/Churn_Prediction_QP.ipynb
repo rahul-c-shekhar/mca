{
 "cells": [
  {
   "cell_type": "markdown",
   "metadata": {},
   "source": [
    "# Employee Churn Analysis and Prediction"
   ]
  },
  {
   "cell_type": "markdown",
   "metadata": {},
   "source": [
    "# What is Employee Churn ?\n",
    "When an employee leaves the organization is known as churn. \n",
    "Employee churn will be affected by age, tenure, pay, job satisfaction, salary, working conditions, growth potential \n",
    "and employee’s perceptions of fairness. \n",
    "Some other variables such as age, gender, ethnicity, education, and marital status, were essential factors \n",
    "in the prediction of employee churn. \n",
    "Predicting the employee churn will help some proactive measures to be taken for employee recruitment and prevention.\n",
    "For the given HR dataset, Do the Employee Churn Analysis\n"
   ]
  },
  {
   "cell_type": "markdown",
   "metadata": {},
   "source": [
    "# About the attributes of the dataset - HR.csv\n",
    "1. satisfaction_level: It is employee satisfaction point, which ranges from 0-1.\n",
    "2. last_evaluation: It is evaluated performance by the employer, which also ranges from 0-1.\n",
    "3. number_projects: How many numbers of projects assigned to an employee?\n",
    "4. average_monthly_hours: How many average numbers of hours worked by an employee in a month?\n",
    "5. time_spent_company: time_spent_company means employee experience. The number of years spent by an employee in the company.\n",
    "6. work_accident: Whether an employee has had a work accident or not.\n",
    "7. promotion_last_5years: Whether an employee has had a promotion in the last 5 years or not.\n",
    "8. Departments: Employee's working department/division."
   ]
  },
  {
   "cell_type": "markdown",
   "metadata": {},
   "source": [
    "# Stmt: Find out the Pattern of Employee churn and Predict the future churn."
   ]
  },
  {
   "cell_type": "markdown",
   "metadata": {},
   "source": [
    "Hints:\n",
    "1. Filter out the employees who has left\n",
    "2. Find out the minimum 3 group of employees based on satisfaction level and the evaluation of the employee\n",
    "3. Group 1 : high satisfaction and high evalation\n",
    "   Group 2: Low satisfaction and high Evaluation\n",
    "   Group 3: moderate satisfaction and moderate evaluation\n",
    "4. Find out how many in each category fits on to 3 groups.\n",
    "5. Filter out the employees who has not left\n",
    "6. Predict how many employees in the organization may leave according to the pattern modelled earlier with 3 groups"
   ]
  }
 ],
 "metadata": {
  "kernelspec": {
   "display_name": "Python 3",
   "language": "python",
   "name": "python3"
  },
  "language_info": {
   "codemirror_mode": {
    "name": "ipython",
    "version": 3
   },
   "file_extension": ".py",
   "mimetype": "text/x-python",
   "name": "python",
   "nbconvert_exporter": "python",
   "pygments_lexer": "ipython3",
   "version": "3.7.1"
  }
 },
 "nbformat": 4,
 "nbformat_minor": 2
}
