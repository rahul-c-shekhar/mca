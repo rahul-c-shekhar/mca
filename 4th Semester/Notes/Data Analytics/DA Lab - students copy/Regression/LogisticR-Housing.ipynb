{
 "cells": [
  {
   "cell_type": "markdown",
   "metadata": {},
   "source": [
    "# Logistic Regression"
   ]
  },
  {
   "cell_type": "code",
   "execution_count": 1,
   "metadata": {},
   "outputs": [],
   "source": [
    "# Response varaible should be a class label\n",
    "import numpy as np\n",
    "import pandas as pd\n",
    "from sklearn.model_selection import train_test_split\n",
    "from sklearn.linear_model import LogisticRegression,LinearRegression\n",
    "from sklearn import metrics\n",
    "from sklearn.metrics import classification_report"
   ]
  },
  {
   "cell_type": "code",
   "execution_count": 3,
   "metadata": {},
   "outputs": [
    {
     "data": {
      "text/plain": [
       "(546, 6)"
      ]
     },
     "execution_count": 3,
     "metadata": {},
     "output_type": "execute_result"
    }
   ],
   "source": [
    "df=pd.read_csv(\"Housing_cut.csv\")\n",
    "df.head()\n",
    "df.shape"
   ]
  },
  {
   "cell_type": "code",
   "execution_count": 4,
   "metadata": {},
   "outputs": [
    {
     "data": {
      "text/plain": [
       "(1,)"
      ]
     },
     "execution_count": 4,
     "metadata": {},
     "output_type": "execute_result"
    }
   ],
   "source": [
    "X=df[['lotsize','bedrooms','bathrms','stories','garagepl']]\n",
    "X.head()\n",
    "Y=df['price']\n",
    "degree=[0,1]\n",
    "Y=pd.cut(Y,2,labels=degree)\n",
    "k=np.extract(1,Y)\n",
    "k.shape"
   ]
  },
  {
   "cell_type": "code",
   "execution_count": 5,
   "metadata": {},
   "outputs": [],
   "source": [
    "#splitting into train and test\n",
    "X_train, X_test, Y_train, Y_test = train_test_split(X, Y, test_size=0.2, random_state=42)\n"
   ]
  },
  {
   "cell_type": "code",
   "execution_count": 6,
   "metadata": {},
   "outputs": [
    {
     "name": "stderr",
     "output_type": "stream",
     "text": [
      "C:\\Users\\mozhi\\Anaconda3\\lib\\site-packages\\sklearn\\linear_model\\logistic.py:433: FutureWarning: Default solver will be changed to 'lbfgs' in 0.22. Specify a solver to silence this warning.\n",
      "  FutureWarning)\n"
     ]
    },
    {
     "data": {
      "text/plain": [
       "LogisticRegression(C=1.0, class_weight=None, dual=False, fit_intercept=True,\n",
       "          intercept_scaling=1, max_iter=100, multi_class='warn',\n",
       "          n_jobs=None, penalty='l2', random_state=None, solver='warn',\n",
       "          tol=0.0001, verbose=0, warm_start=False)"
      ]
     },
     "execution_count": 6,
     "metadata": {},
     "output_type": "execute_result"
    }
   ],
   "source": [
    "#Build the regression model\n",
    "lr=LogisticRegression()\n",
    "#Train the model\n",
    "lr.fit(X_train,Y_train)"
   ]
  },
  {
   "cell_type": "code",
   "execution_count": 7,
   "metadata": {},
   "outputs": [
    {
     "name": "stdout",
     "output_type": "stream",
     "text": [
      "[0 0 0 0]\n",
      "316    0\n",
      "77     0\n",
      "360    1\n",
      "90     0\n",
      "495    0\n",
      "209    0\n",
      "176    0\n",
      "249    0\n",
      "517    0\n",
      "489    0\n",
      "6      0\n",
      "499    0\n",
      "423    0\n",
      "425    0\n",
      "530    1\n",
      "501    0\n",
      "500    0\n",
      "55     0\n",
      "478    0\n",
      "488    0\n",
      "72     0\n",
      "163    0\n",
      "539    0\n",
      "174    0\n",
      "304    0\n",
      "2      0\n",
      "465    0\n",
      "184    0\n",
      "10     0\n",
      "513    0\n",
      "      ..\n",
      "63     0\n",
      "307    0\n",
      "104    0\n",
      "86     0\n",
      "468    0\n",
      "33     0\n",
      "502    0\n",
      "305    0\n",
      "0      0\n",
      "11     0\n",
      "271    0\n",
      "22     0\n",
      "365    0\n",
      "182    0\n",
      "89     0\n",
      "117    0\n",
      "131    0\n",
      "140    0\n",
      "101    0\n",
      "149    0\n",
      "469    0\n",
      "18     0\n",
      "208    0\n",
      "153    0\n",
      "15     0\n",
      "357    0\n",
      "39     0\n",
      "54     0\n",
      "155    0\n",
      "46     0\n",
      "Name: price, Length: 110, dtype: category\n",
      "Categories (2, int64): [0 < 1]\n"
     ]
    }
   ],
   "source": [
    "#Apply the model\n",
    "Y_pred=lr.predict(X_test)\n",
    "print(Y_pred[1:5])\n",
    "Y_pred=Y_pred.reshape(len(Y_pred),1)\n",
    "print(Y_test)"
   ]
  },
  {
   "cell_type": "code",
   "execution_count": 8,
   "metadata": {},
   "outputs": [
    {
     "name": "stdout",
     "output_type": "stream",
     "text": [
      "[[102   0]\n",
      " [  8   0]]\n",
      "92.72727272727272\n"
     ]
    }
   ],
   "source": [
    "#classification report\n",
    "cm=metrics.confusion_matrix(Y_test,Y_pred)\n",
    "print(cm)\n",
    "a=metrics.accuracy_score(Y_test, Y_pred)\n",
    "print(a*100)"
   ]
  },
  {
   "cell_type": "code",
   "execution_count": null,
   "metadata": {},
   "outputs": [],
   "source": []
  }
 ],
 "metadata": {
  "kernelspec": {
   "display_name": "Python 3",
   "language": "python",
   "name": "python3"
  },
  "language_info": {
   "codemirror_mode": {
    "name": "ipython",
    "version": 3
   },
   "file_extension": ".py",
   "mimetype": "text/x-python",
   "name": "python",
   "nbconvert_exporter": "python",
   "pygments_lexer": "ipython3",
   "version": "3.7.1"
  }
 },
 "nbformat": 4,
 "nbformat_minor": 2
}
