{
 "cells": [
  {
   "cell_type": "code",
   "execution_count": 1,
   "metadata": {},
   "outputs": [],
   "source": [
    "import numpy as np\n",
    "import pandas as pd"
   ]
  },
  {
   "cell_type": "code",
   "execution_count": 3,
   "metadata": {},
   "outputs": [
    {
     "data": {
      "text/html": [
       "<div>\n",
       "<style scoped>\n",
       "    .dataframe tbody tr th:only-of-type {\n",
       "        vertical-align: middle;\n",
       "    }\n",
       "\n",
       "    .dataframe tbody tr th {\n",
       "        vertical-align: top;\n",
       "    }\n",
       "\n",
       "    .dataframe thead th {\n",
       "        text-align: right;\n",
       "    }\n",
       "</style>\n",
       "<table border=\"1\" class=\"dataframe\">\n",
       "  <thead>\n",
       "    <tr style=\"text-align: right;\">\n",
       "      <th></th>\n",
       "      <th>INCOME</th>\n",
       "      <th>SPEND</th>\n",
       "    </tr>\n",
       "  </thead>\n",
       "  <tbody>\n",
       "    <tr>\n",
       "      <th>0</th>\n",
       "      <td>233</td>\n",
       "      <td>150</td>\n",
       "    </tr>\n",
       "    <tr>\n",
       "      <th>1</th>\n",
       "      <td>250</td>\n",
       "      <td>187</td>\n",
       "    </tr>\n",
       "    <tr>\n",
       "      <th>2</th>\n",
       "      <td>204</td>\n",
       "      <td>172</td>\n",
       "    </tr>\n",
       "    <tr>\n",
       "      <th>3</th>\n",
       "      <td>236</td>\n",
       "      <td>178</td>\n",
       "    </tr>\n",
       "    <tr>\n",
       "      <th>4</th>\n",
       "      <td>354</td>\n",
       "      <td>163</td>\n",
       "    </tr>\n",
       "  </tbody>\n",
       "</table>\n",
       "</div>"
      ],
      "text/plain": [
       "   INCOME  SPEND\n",
       "0     233    150\n",
       "1     250    187\n",
       "2     204    172\n",
       "3     236    178\n",
       "4     354    163"
      ]
     },
     "execution_count": 3,
     "metadata": {},
     "output_type": "execute_result"
    }
   ],
   "source": [
    "df=pd.read_csv('income.csv')\n",
    "df.head()"
   ]
  },
  {
   "cell_type": "code",
   "execution_count": 4,
   "metadata": {},
   "outputs": [
    {
     "data": {
      "text/html": [
       "<div>\n",
       "<style scoped>\n",
       "    .dataframe tbody tr th:only-of-type {\n",
       "        vertical-align: middle;\n",
       "    }\n",
       "\n",
       "    .dataframe tbody tr th {\n",
       "        vertical-align: top;\n",
       "    }\n",
       "\n",
       "    .dataframe thead th {\n",
       "        text-align: right;\n",
       "    }\n",
       "</style>\n",
       "<table border=\"1\" class=\"dataframe\">\n",
       "  <thead>\n",
       "    <tr style=\"text-align: right;\">\n",
       "      <th></th>\n",
       "      <th>count</th>\n",
       "      <th>mean</th>\n",
       "      <th>std</th>\n",
       "      <th>min</th>\n",
       "      <th>25%</th>\n",
       "      <th>50%</th>\n",
       "      <th>75%</th>\n",
       "      <th>max</th>\n",
       "    </tr>\n",
       "  </thead>\n",
       "  <tbody>\n",
       "    <tr>\n",
       "      <th>INCOME</th>\n",
       "      <td>303.0</td>\n",
       "      <td>245.273927</td>\n",
       "      <td>48.499412</td>\n",
       "      <td>126.0</td>\n",
       "      <td>211.0</td>\n",
       "      <td>240.0</td>\n",
       "      <td>274.0</td>\n",
       "      <td>417.0</td>\n",
       "    </tr>\n",
       "    <tr>\n",
       "      <th>SPEND</th>\n",
       "      <td>303.0</td>\n",
       "      <td>149.646865</td>\n",
       "      <td>22.905161</td>\n",
       "      <td>71.0</td>\n",
       "      <td>133.5</td>\n",
       "      <td>153.0</td>\n",
       "      <td>166.0</td>\n",
       "      <td>202.0</td>\n",
       "    </tr>\n",
       "  </tbody>\n",
       "</table>\n",
       "</div>"
      ],
      "text/plain": [
       "        count        mean        std    min    25%    50%    75%    max\n",
       "INCOME  303.0  245.273927  48.499412  126.0  211.0  240.0  274.0  417.0\n",
       "SPEND   303.0  149.646865  22.905161   71.0  133.5  153.0  166.0  202.0"
      ]
     },
     "execution_count": 4,
     "metadata": {},
     "output_type": "execute_result"
    }
   ],
   "source": [
    "df.describe().transpose()"
   ]
  },
  {
   "cell_type": "code",
   "execution_count": 5,
   "metadata": {},
   "outputs": [
    {
     "data": {
      "text/plain": [
       "INCOME    0\n",
       "SPEND     0\n",
       "dtype: int64"
      ]
     },
     "execution_count": 5,
     "metadata": {},
     "output_type": "execute_result"
    }
   ],
   "source": [
    "df.isnull().sum()"
   ]
  },
  {
   "cell_type": "code",
   "execution_count": 8,
   "metadata": {},
   "outputs": [
    {
     "data": {
      "image/png": "[encoded data removed]",
      "text/plain": [
       "<Figure size 432x288 with 1 Axes>"
      ]
     },
     "metadata": {
      "needs_background": "light"
     },
     "output_type": "display_data"
    }
   ],
   "source": [
    "import matplotlib.pyplot as plt\n",
    "plt.scatter(df['INCOME'],df['SPEND'])\n",
    "plt.show()"
   ]
  },
  {
   "cell_type": "code",
   "execution_count": 11,
   "metadata": {},
   "outputs": [
    {
     "data": {
      "image/png": "[encoded data removed]",
      "text/plain": [
       "<Figure size 432x288 with 1 Axes>"
      ]
     },
     "metadata": {
      "needs_background": "light"
     },
     "output_type": "display_data"
    }
   ],
   "source": [
    "#Using the elbow method to find the optimum number of clusters\n",
    "from sklearn.cluster import KMeans\n",
    "X=df[['INCOME','SPEND']]\n",
    "wcss = []\n",
    "for i in range(1,11):\n",
    "    km=KMeans(n_clusters=i)\n",
    "    km.fit(X)\n",
    "    wcss.append(km.inertia_)\n",
    "plt.plot(range(1,11),wcss)\n",
    "plt.title('Elbow Method')\n",
    "plt.xlabel('Number of clusters')\n",
    "plt.ylabel('wcss')\n",
    "plt.show()\n"
   ]
  },
  {
   "cell_type": "code",
   "execution_count": 48,
   "metadata": {},
   "outputs": [
    {
     "data": {
      "text/plain": [
       "array([3, 3, 0, 3, 2, 0, 2, 3, 0, 0, 3, 1, 3, 0, 3, 0, 2, 1, 3, 3, 3, 3,\n",
       "       3, 3, 0, 2, 0, 0, 2, 0, 0, 0, 3, 3, 0, 0, 2, 3, 3, 2, 2, 3, 0, 3,\n",
       "       2, 2, 3, 3, 0, 3, 3, 2, 3, 0, 3, 0, 3, 3, 0, 2, 1, 2, 0, 0, 0, 0,\n",
       "       0, 3, 3, 0, 3, 3, 0, 3, 0, 3, 3, 3, 0, 3, 3, 2, 2, 2, 1, 3, 3, 0,\n",
       "       0, 1, 3, 0, 3, 2, 0, 1, 2, 3, 2, 3, 3, 3, 0, 3, 0, 0, 3, 3, 3, 3,\n",
       "       2, 0, 2, 0, 3, 0, 0, 0, 0, 3, 2, 3, 3, 3, 0, 0, 0, 3, 0, 1, 0, 3,\n",
       "       2, 3, 2, 3, 0, 0, 0, 1, 2, 2, 0, 0, 0, 3, 3, 3, 3, 0, 3, 0, 3, 3,\n",
       "       0, 0, 3, 0, 0, 3, 3, 2, 0, 0, 0, 1, 3, 3, 3, 0, 3, 3, 3, 3, 0, 0,\n",
       "       3, 2, 0, 1, 2, 1, 2, 3, 1, 2, 3, 1, 3, 0, 2, 0, 0, 1, 0, 2, 3, 3,\n",
       "       1, 3, 0, 3, 1, 3, 0, 3, 3, 3, 0, 0, 3, 3, 0, 2, 3, 2, 1, 2, 1, 3,\n",
       "       2, 0, 3, 1, 1, 0, 1, 0, 2, 2, 3, 1, 2, 1, 2, 2, 2, 2, 2, 3, 1, 3,\n",
       "       0, 1, 0, 3, 2, 1, 3, 3, 1, 3, 1, 2, 1, 2, 1, 0, 3, 3, 3, 3, 1, 3,\n",
       "       0, 0, 2, 0, 1, 1, 3, 3, 1, 3, 1, 0, 1, 3, 2, 0, 2, 0, 0, 3, 0, 2,\n",
       "       0, 3, 2, 0, 0, 2, 3, 0, 0, 0, 0, 0, 1, 1, 0, 0, 3])"
      ]
     },
     "execution_count": 48,
     "metadata": {},
     "output_type": "execute_result"
    }
   ],
   "source": [
    "from sklearn.cluster import KMeans\n",
    "# create kmeans object\n",
    "km = KMeans(n_clusters=4)\n",
    "# fit kmeans object to data\n",
    "km.fit(X)\n",
    "# print location of clusters learned by kmeans object\n",
    "km.labels_"
   ]
  },
  {
   "cell_type": "code",
   "execution_count": 15,
   "metadata": {},
   "outputs": [],
   "source": [
    "#adding the cluster labels into the dataframe\n",
    "df['labels']=km.labels_"
   ]
  },
  {
   "cell_type": "code",
   "execution_count": 16,
   "metadata": {},
   "outputs": [
    {
     "data": {
      "text/html": [
       "<div>\n",
       "<style scoped>\n",
       "    .dataframe tbody tr th:only-of-type {\n",
       "        vertical-align: middle;\n",
       "    }\n",
       "\n",
       "    .dataframe tbody tr th {\n",
       "        vertical-align: top;\n",
       "    }\n",
       "\n",
       "    .dataframe thead th {\n",
       "        text-align: right;\n",
       "    }\n",
       "</style>\n",
       "<table border=\"1\" class=\"dataframe\">\n",
       "  <thead>\n",
       "    <tr style=\"text-align: right;\">\n",
       "      <th></th>\n",
       "      <th>INCOME</th>\n",
       "      <th>SPEND</th>\n",
       "      <th>labels</th>\n",
       "    </tr>\n",
       "  </thead>\n",
       "  <tbody>\n",
       "    <tr>\n",
       "      <th>0</th>\n",
       "      <td>233</td>\n",
       "      <td>150</td>\n",
       "      <td>2</td>\n",
       "    </tr>\n",
       "    <tr>\n",
       "      <th>1</th>\n",
       "      <td>250</td>\n",
       "      <td>187</td>\n",
       "      <td>2</td>\n",
       "    </tr>\n",
       "    <tr>\n",
       "      <th>2</th>\n",
       "      <td>204</td>\n",
       "      <td>172</td>\n",
       "      <td>1</td>\n",
       "    </tr>\n",
       "    <tr>\n",
       "      <th>3</th>\n",
       "      <td>236</td>\n",
       "      <td>178</td>\n",
       "      <td>2</td>\n",
       "    </tr>\n",
       "    <tr>\n",
       "      <th>4</th>\n",
       "      <td>354</td>\n",
       "      <td>163</td>\n",
       "      <td>0</td>\n",
       "    </tr>\n",
       "  </tbody>\n",
       "</table>\n",
       "</div>"
      ],
      "text/plain": [
       "   INCOME  SPEND  labels\n",
       "0     233    150       2\n",
       "1     250    187       2\n",
       "2     204    172       1\n",
       "3     236    178       2\n",
       "4     354    163       0"
      ]
     },
     "execution_count": 16,
     "metadata": {},
     "output_type": "execute_result"
    }
   ],
   "source": [
    "df.head()"
   ]
  },
  {
   "cell_type": "code",
   "execution_count": 30,
   "metadata": {},
   "outputs": [
    {
     "data": {
      "text/plain": [
       "2    111\n",
       "1     97\n",
       "0     55\n",
       "3     40\n",
       "Name: labels, dtype: int64"
      ]
     },
     "execution_count": 30,
     "metadata": {},
     "output_type": "execute_result"
    }
   ],
   "source": [
    "df['labels'].value_counts()"
   ]
  },
  {
   "cell_type": "code",
   "execution_count": 24,
   "metadata": {},
   "outputs": [
    {
     "data": {
      "text/plain": [
       "[2,\n",
       " 5,\n",
       " 8,\n",
       " 9,\n",
       " 13,\n",
       " 15,\n",
       " 24,\n",
       " 26,\n",
       " 27,\n",
       " 29,\n",
       " 30,\n",
       " 31,\n",
       " 34,\n",
       " 35,\n",
       " 42,\n",
       " 48,\n",
       " 53,\n",
       " 55,\n",
       " 58,\n",
       " 62,\n",
       " 63,\n",
       " 64,\n",
       " 65,\n",
       " 66,\n",
       " 69,\n",
       " 72,\n",
       " 74,\n",
       " 78,\n",
       " 87,\n",
       " 88,\n",
       " 91,\n",
       " 94,\n",
       " 102,\n",
       " 104,\n",
       " 105,\n",
       " 111,\n",
       " 113,\n",
       " 115,\n",
       " 116,\n",
       " 117,\n",
       " 118,\n",
       " 124,\n",
       " 125,\n",
       " 126,\n",
       " 128,\n",
       " 130,\n",
       " 136,\n",
       " 137,\n",
       " 138,\n",
       " 142,\n",
       " 143,\n",
       " 144,\n",
       " 149,\n",
       " 151,\n",
       " 154,\n",
       " 155,\n",
       " 157,\n",
       " 158,\n",
       " 162,\n",
       " 163,\n",
       " 164,\n",
       " 169,\n",
       " 174,\n",
       " 175,\n",
       " 178,\n",
       " 189,\n",
       " 191,\n",
       " 192,\n",
       " 194,\n",
       " 200,\n",
       " 204,\n",
       " 208,\n",
       " 209,\n",
       " 212,\n",
       " 225,\n",
       " 227,\n",
       " 242,\n",
       " 244,\n",
       " 257,\n",
       " 264,\n",
       " 265,\n",
       " 267,\n",
       " 275,\n",
       " 279,\n",
       " 281,\n",
       " 282,\n",
       " 284,\n",
       " 286,\n",
       " 289,\n",
       " 290,\n",
       " 293,\n",
       " 294,\n",
       " 295,\n",
       " 296,\n",
       " 297,\n",
       " 300,\n",
       " 301]"
      ]
     },
     "execution_count": 24,
     "metadata": {},
     "output_type": "execute_result"
    }
   ],
   "source": [
    "df.index[df['labels']==1].tolist()"
   ]
  },
  {
   "cell_type": "code",
   "execution_count": 50,
   "metadata": {},
   "outputs": [
    {
     "name": "stdout",
     "output_type": "stream",
     "text": [
      "   Income  Spend\n",
      "0     120     30\n",
      "1     300    100\n",
      "2     160     14\n"
     ]
    }
   ],
   "source": [
    "#creating a dataframe for testing the model\n",
    "data = [[120,30], [300, 100], [160, 14]] \n",
    "  \n",
    "# Create the pandas DataFrame \n",
    "x_test = pd.DataFrame(data, columns=['Income','Spend']) \n",
    "  \n",
    "# print dataframe. \n",
    "print(x_test)\n"
   ]
  },
  {
   "cell_type": "code",
   "execution_count": 53,
   "metadata": {},
   "outputs": [
    {
     "data": {
      "text/plain": [
       "array([0, 1, 0])"
      ]
     },
     "execution_count": 53,
     "metadata": {},
     "output_type": "execute_result"
    }
   ],
   "source": [
    "km.predict(x_test)"
   ]
  },
  {
   "cell_type": "code",
   "execution_count": 55,
   "metadata": {},
   "outputs": [],
   "source": [
    "y_pred=km.predict(X)"
   ]
  },
  {
   "cell_type": "code",
   "execution_count": 58,
   "metadata": {},
   "outputs": [
    {
     "name": "stdout",
     "output_type": "stream",
     "text": [
      "[[  0   1  54   0]\n",
      " [ 97   0   0   0]\n",
      " [  0   0   0 111]\n",
      " [  1  37   0   2]]\n",
      "0.6600660066006601\n"
     ]
    }
   ],
   "source": [
    "from sklearn.metrics import confusion_matrix,accuracy_score\n",
    "cm=confusion_matrix(df['labels'],y_pred)\n",
    "print (cm)\n",
    "s=accuracy_score(df['labels'],y_pred)\n",
    "print(s*100)"
   ]
  },
  {
   "cell_type": "code",
   "execution_count": 60,
   "metadata": {},
   "outputs": [
    {
     "data": {
      "text/plain": [
       "<matplotlib.collections.PathCollection at 0x17a59d2358>"
      ]
     },
     "execution_count": 60,
     "metadata": {},
     "output_type": "execute_result"
    },
    {
     "data": {
      "image/png": "[encoded data removed]",
      "text/plain": [
       "<Figure size 432x288 with 1 Axes>"
      ]
     },
     "metadata": {
      "needs_background": "light"
     },
     "output_type": "display_data"
    }
   ],
   "source": [
    "plt.scatter(df['INCOME'],df['SPEND'],c=df['labels'],s=50)"
   ]
  },
  {
   "cell_type": "markdown",
   "metadata": {},
   "source": [
    "# Agglomerative Clustering"
   ]
  },
  {
   "cell_type": "code",
   "execution_count": 1,
   "metadata": {},
   "outputs": [
    {
     "data": {
      "text/plain": [
       "0    0\n",
       "1    0\n",
       "2    1\n",
       "3    0\n",
       "4    0\n",
       "Name: labels, dtype: int64"
      ]
     },
     "execution_count": 1,
     "metadata": {},
     "output_type": "execute_result"
    }
   ],
   "source": [
    "import pandas as pd\n",
    "import numpy as np\n",
    "df1=pd.read_csv('income.csv')\n",
    "x=df1[['INCOME','SPEND']]\n",
    "from sklearn.cluster import AgglomerativeClustering\n",
    "ag_cl = AgglomerativeClustering(n_clusters=2)\n",
    "ag_cl.fit(x)\n",
    "ag_cl\n",
    "ag_cl.labels_\n",
    "df1['labels']=ag_cl.labels_\n",
    "df1['labels'].head()"
   ]
  },
  {
   "cell_type": "code",
   "execution_count": 5,
   "metadata": {},
   "outputs": [
    {
     "data": {
      "image/png": "[encoded data removed]",
      "text/plain": [
       "<Figure size 432x288 with 1 Axes>"
      ]
     },
     "metadata": {
      "needs_background": "light"
     },
     "output_type": "display_data"
    }
   ],
   "source": [
    "from scipy.cluster.hierarchy import dendrogram, linkage\n",
    "from matplotlib import pyplot as plt\n",
    "linkage_matrix = linkage(x, 'ward')\n",
    "dendrogram(linkage_matrix)\n",
    "plt.title('Hierarchical Clustering Dendrogram (Ward)')\n",
    "plt.xlabel('sample index')\n",
    "plt.ylabel('distance')\n",
    "plt.show()"
   ]
  },
  {
   "cell_type": "code",
   "execution_count": 22,
   "metadata": {},
   "outputs": [
    {
     "data": {
      "text/plain": [
       "array([[  0.        ,  40.71854614,  36.41428291, ...,  41.01219331,\n",
       "        107.84247772,  24.18677324],\n",
       "       [ 40.71854614,   0.        ,  48.39421453, ...,  73.25298629,\n",
       "        139.08989899,  19.10497317],\n",
       "       [ 36.41428291,  48.39421453,   0.        , ...,  32.89376841,\n",
       "         92.61749295,  32.07802986],\n",
       "       ...,\n",
       "       [ 41.01219331,  73.25298629,  32.89376841, ...,   0.        ,\n",
       "         67.23094526,  54.21254467],\n",
       "       [107.84247772, 139.08989899,  92.61749295, ...,  67.23094526,\n",
       "          0.        , 120.4450082 ],\n",
       "       [ 24.18677324,  19.10497317,  32.07802986, ...,  54.21254467,\n",
       "        120.4450082 ,   0.        ]])"
      ]
     },
     "execution_count": 22,
     "metadata": {},
     "output_type": "execute_result"
    }
   ],
   "source": [
    "from sklearn.metrics import pairwise_distances\n",
    "D = pairwise_distances(df1, metric='euclidean')\n",
    "D"
   ]
  },
  {
   "cell_type": "code",
   "execution_count": null,
   "metadata": {},
   "outputs": [],
   "source": []
  }
 ],
 "metadata": {
  "kernelspec": {
   "display_name": "Python 3",
   "language": "python",
   "name": "python3"
  },
  "language_info": {
   "codemirror_mode": {
    "name": "ipython",
    "version": 3
   },
   "file_extension": ".py",
   "mimetype": "text/x-python",
   "name": "python",
   "nbconvert_exporter": "python",
   "pygments_lexer": "ipython3",
   "version": "3.7.1"
  }
 },
 "nbformat": 4,
 "nbformat_minor": 2
}
